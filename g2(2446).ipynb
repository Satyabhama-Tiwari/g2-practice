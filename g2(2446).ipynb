{
 "cells": [
  {
   "cell_type": "code",
   "execution_count": 16,
   "id": "e314c74b",
   "metadata": {},
   "outputs": [
    {
     "data": {
      "text/plain": [
       "6"
      ]
     },
     "execution_count": 16,
     "metadata": {},
     "output_type": "execute_result"
    }
   ],
   "source": [
    "num=\"123456\"\n",
    "len(num)"
   ]
  },
  {
   "cell_type": "code",
   "execution_count": 17,
   "id": "bc1a6298",
   "metadata": {},
   "outputs": [
    {
     "data": {
      "text/plain": [
       "'36'"
      ]
     },
     "execution_count": 17,
     "metadata": {},
     "output_type": "execute_result"
    }
   ],
   "source": [
    "num[2:6:3] #36"
   ]
  },
  {
   "cell_type": "code",
   "execution_count": 1,
   "id": "c97debad",
   "metadata": {},
   "outputs": [
    {
     "ename": "NameError",
     "evalue": "name 's' is not defined",
     "output_type": "error",
     "traceback": [
      "\u001b[1;31m---------------------------------------------------------------------------\u001b[0m",
      "\u001b[1;31mNameError\u001b[0m                                 Traceback (most recent call last)",
      "Cell \u001b[1;32mIn[1], line 2\u001b[0m\n\u001b[0;32m      1\u001b[0m S\u001b[38;5;241m=\u001b[39m\u001b[38;5;124m\"\u001b[39m\u001b[38;5;124mABCDE\u001b[39m\u001b[38;5;124m\"\u001b[39m\n\u001b[1;32m----> 2\u001b[0m \u001b[43ms\u001b[49m[\u001b[38;5;241m-\u001b[39m\u001b[38;5;241m3\u001b[39m]\n",
      "\u001b[1;31mNameError\u001b[0m: name 's' is not defined"
     ]
    }
   ],
   "source": [
    "S=\"ABCDE\"\n",
    "s[-3]# error because var S in uppercase and we are trying to access with lowercase s"
   ]
  },
  {
   "cell_type": "code",
   "execution_count": null,
   "id": "353c3723",
   "metadata": {},
   "outputs": [],
   "source": []
  },
  {
   "cell_type": "code",
   "execution_count": 23,
   "id": "f330f2e6",
   "metadata": {},
   "outputs": [
    {
     "data": {
      "text/plain": [
       "'C'"
      ]
     },
     "execution_count": 23,
     "metadata": {},
     "output_type": "execute_result"
    }
   ],
   "source": [
    "S[-3] # c"
   ]
  },
  {
   "cell_type": "code",
   "execution_count": 3,
   "id": "02f7ce36",
   "metadata": {},
   "outputs": [],
   "source": [
    "name=\"LPU\""
   ]
  },
  {
   "cell_type": "markdown",
   "id": "1b43c51d",
   "metadata": {},
   "source": [
    "# operator"
   ]
  },
  {
   "cell_type": "markdown",
   "id": "195132d1",
   "metadata": {},
   "source": [
    "# Airthmetic\n",
    "\n",
    "# Assigmnet\n",
    "\n",
    "# relational\n",
    "\n",
    "# logical \n",
    "\n",
    "# bitwise\n",
    "\n",
    "# membership \n",
    "\n",
    "# identity "
   ]
  },
  {
   "cell_type": "code",
   "execution_count": 2,
   "id": "a0e46f56",
   "metadata": {},
   "outputs": [
    {
     "ename": "SyntaxError",
     "evalue": "invalid syntax. Maybe you meant '==' or ':=' instead of '='? (2301759258.py, line 1)",
     "output_type": "error",
     "traceback": [
      "\u001b[1;36m  Cell \u001b[1;32mIn[2], line 1\u001b[1;36m\u001b[0m\n\u001b[1;33m    a=5 , b=6 , c=10\u001b[0m\n\u001b[1;37m    ^\u001b[0m\n\u001b[1;31mSyntaxError\u001b[0m\u001b[1;31m:\u001b[0m invalid syntax. Maybe you meant '==' or ':=' instead of '='?\n"
     ]
    }
   ],
   "source": [
    "a=5 , b=6 , c=10"
   ]
  },
  {
   "cell_type": "code",
   "execution_count": 25,
   "id": "ac3b5829",
   "metadata": {},
   "outputs": [
    {
     "name": "stdout",
     "output_type": "stream",
     "text": [
      "19\n",
      "<class 'int'>\n",
      "12.876\n",
      "<class 'float'>\n",
      "True\n",
      "<class 'bool'>\n"
     ]
    }
   ],
   "source": [
    "\n",
    "a,b,c=19,12.876,True # multi line assignment\n",
    "print(a)\n",
    "print(type(a))\n",
    "print(b)\n",
    "print(type(b))\n",
    "print(c)\n",
    "print(type(c))"
   ]
  },
  {
   "cell_type": "markdown",
   "id": "b1a9c244",
   "metadata": {},
   "source": [
    "# identity operator"
   ]
  },
  {
   "cell_type": "code",
   "execution_count": 28,
   "id": "be2c20fe",
   "metadata": {},
   "outputs": [
    {
     "name": "stdout",
     "output_type": "stream",
     "text": [
      "1842347377168\n",
      "1842347377168\n"
     ]
    }
   ],
   "source": [
    "a=10\n",
    "print(id(a))\n",
    "\n",
    "b=10\n",
    "\n",
    "print(id(b))"
   ]
  },
  {
   "cell_type": "code",
   "execution_count": 29,
   "id": "7f5cb721",
   "metadata": {},
   "outputs": [
    {
     "data": {
      "text/plain": [
       "True"
      ]
     },
     "execution_count": 29,
     "metadata": {},
     "output_type": "execute_result"
    }
   ],
   "source": [
    "a is b"
   ]
  },
  {
   "cell_type": "code",
   "execution_count": 30,
   "id": "c52c3b7d",
   "metadata": {},
   "outputs": [
    {
     "name": "stdout",
     "output_type": "stream",
     "text": [
      "1842460005744\n",
      "1842460008528\n"
     ]
    }
   ],
   "source": [
    "a=1098796\n",
    "print(id(a))\n",
    "b=10978\n",
    "\n",
    "print(id(b))\n"
   ]
  },
  {
   "cell_type": "code",
   "execution_count": 31,
   "id": "b77409ff",
   "metadata": {},
   "outputs": [
    {
     "data": {
      "text/plain": [
       "False"
      ]
     },
     "execution_count": 31,
     "metadata": {},
     "output_type": "execute_result"
    }
   ],
   "source": [
    "a is b"
   ]
  },
  {
   "cell_type": "code",
   "execution_count": null,
   "id": "cc9d74b7",
   "metadata": {},
   "outputs": [],
   "source": []
  },
  {
   "cell_type": "markdown",
   "id": "ec467b92",
   "metadata": {},
   "source": [
    "# membership operator"
   ]
  },
  {
   "cell_type": "code",
   "execution_count": 35,
   "id": "b62fb125",
   "metadata": {},
   "outputs": [
    {
     "data": {
      "text/plain": [
       "False"
      ]
     },
     "execution_count": 35,
     "metadata": {},
     "output_type": "execute_result"
    }
   ],
   "source": [
    "s=\"King Kohli\"\n",
    "\"koh\" in s # gives  false beacuse k of koh in s in upper and we are checking in lowercase"
   ]
  },
  {
   "cell_type": "code",
   "execution_count": 36,
   "id": "26001823",
   "metadata": {},
   "outputs": [
    {
     "data": {
      "text/plain": [
       "True"
      ]
     },
     "execution_count": 36,
     "metadata": {},
     "output_type": "execute_result"
    }
   ],
   "source": [
    "s=\"King Kohli\"\n",
    "\"Koh\" in s # gives  True beacause Koh ia vailable in s"
   ]
  },
  {
   "cell_type": "code",
   "execution_count": null,
   "id": "bc7036a3",
   "metadata": {},
   "outputs": [],
   "source": []
  },
  {
   "cell_type": "markdown",
   "id": "51aeeefe",
   "metadata": {},
   "source": [
    "# conditional statement"
   ]
  },
  {
   "cell_type": "code",
   "execution_count": 2,
   "id": "c7e106e4",
   "metadata": {},
   "outputs": [
    {
     "name": "stdout",
     "output_type": "stream",
     "text": [
      "positive number\n"
     ]
    }
   ],
   "source": [
    "a=10\n",
    "if a>0:\n",
    "    print(\"positive number\")"
   ]
  },
  {
   "cell_type": "code",
   "execution_count": null,
   "id": "ace325e9",
   "metadata": {},
   "outputs": [],
   "source": []
  },
  {
   "cell_type": "code",
   "execution_count": 3,
   "id": "88cc1bd7",
   "metadata": {},
   "outputs": [
    {
     "ename": "IndentationError",
     "evalue": "expected an indented block after 'if' statement on line 2 (3085416702.py, line 3)",
     "output_type": "error",
     "traceback": [
      "\u001b[1;36m  Cell \u001b[1;32mIn[3], line 3\u001b[1;36m\u001b[0m\n\u001b[1;33m    print(\"positive number\") #gives error because we have to enter after : in first line then start coding\u001b[0m\n\u001b[1;37m    ^\u001b[0m\n\u001b[1;31mIndentationError\u001b[0m\u001b[1;31m:\u001b[0m expected an indented block after 'if' statement on line 2\n"
     ]
    }
   ],
   "source": [
    "a=10\n",
    "if a>0:\n",
    "print(\"positive number\") #gives error because we have to enter after : in first line then start coding"
   ]
  },
  {
   "cell_type": "code",
   "execution_count": null,
   "id": "cfe2be41",
   "metadata": {},
   "outputs": [],
   "source": []
  },
  {
   "cell_type": "code",
   "execution_count": 4,
   "id": "1c7b5293",
   "metadata": {},
   "outputs": [],
   "source": [
    "a=-10\n",
    "if a>0:\n",
    "    print(\"positive number\") # code exectes but output will not display beacuse condition becomes \n",
    "    # false and flow comes out of loop"
   ]
  },
  {
   "cell_type": "code",
   "execution_count": null,
   "id": "d9bcaf38",
   "metadata": {},
   "outputs": [],
   "source": []
  },
  {
   "cell_type": "code",
   "execution_count": 5,
   "id": "6a5d28ee",
   "metadata": {},
   "outputs": [
    {
     "name": "stdout",
     "output_type": "stream",
     "text": [
      "hello world\n",
      "python\n",
      "ans\n",
      "positive no\n",
      "LPU\n",
      "end of if\n"
     ]
    }
   ],
   "source": [
    "a=10\n",
    "b=20\n",
    "print(\"hello world\")\n",
    "\n",
    "print(\"python\")\n",
    "if a>0:\n",
    "    print(\"ans\")\n",
    "print(\"positive no\")\n",
    "print(\"LPU\")\n",
    "print(\"end of if\")\n",
    "a=20"
   ]
  },
  {
   "cell_type": "code",
   "execution_count": null,
   "id": "b6872c35",
   "metadata": {},
   "outputs": [],
   "source": []
  },
  {
   "cell_type": "code",
   "execution_count": null,
   "id": "bacc93b0",
   "metadata": {},
   "outputs": [],
   "source": []
  },
  {
   "cell_type": "code",
   "execution_count": 6,
   "id": "bea7879d",
   "metadata": {},
   "outputs": [
    {
     "name": "stdout",
     "output_type": "stream",
     "text": [
      "lpu\n",
      "positive no 10\n",
      "going good\n",
      "end of if\n",
      "20\n"
     ]
    }
   ],
   "source": [
    "a=10\n",
    "b=20\n",
    "c=a+b\n",
    "print(\"lpu\")\n",
    "if a>0 :\n",
    "    print(\"positive no\",a)\n",
    "    print(\"going good\")\n",
    "print(\"end of if\")\n",
    "c\n",
    "a\n",
    "print(b)"
   ]
  },
  {
   "cell_type": "code",
   "execution_count": null,
   "id": "6124c72d",
   "metadata": {},
   "outputs": [],
   "source": []
  },
  {
   "cell_type": "code",
   "execution_count": null,
   "id": "f9a3b9dd",
   "metadata": {},
   "outputs": [],
   "source": []
  },
  {
   "cell_type": "markdown",
   "id": "6dafc8f2",
   "metadata": {},
   "source": [
    "## elif :-- if we want to check multiple contion then we have to use elif"
   ]
  },
  {
   "cell_type": "code",
   "execution_count": 7,
   "id": "8b85ce1a",
   "metadata": {},
   "outputs": [
    {
     "name": "stdout",
     "output_type": "stream",
     "text": [
      "plzz enter the day namesat\n",
      "saterday\n"
     ]
    }
   ],
   "source": [
    "day=input(\"plzz enter the day name\")\n",
    "\n",
    "if day==\"mon\":\n",
    "    print(\"today is monday\")\n",
    "elif day==\"tues\":\n",
    "    print(\"tuesday\")\n",
    "elif day==\"wed\":\n",
    "    print(\"wednesday\")\n",
    "elif day==\"thurs\":\n",
    "    print(\"thursday\")\n",
    "elif day==\"fri\":\n",
    "    print(\"friday\")\n",
    "elif day==\"sat\":\n",
    "    print(\"saterday\")\n",
    "else :\n",
    "    print(\"sunday\")"
   ]
  },
  {
   "cell_type": "code",
   "execution_count": null,
   "id": "56b725de",
   "metadata": {},
   "outputs": [],
   "source": []
  },
  {
   "cell_type": "markdown",
   "id": "57ec607f",
   "metadata": {},
   "source": [
    "# Looping / iterative / repetative \n",
    "\n",
    "### The purpose of looping statement is that to execute certain operation repeatedly for finite  number of times untill test condtion becomes false\n",
    "\n",
    "\n",
    "# types of looping statement\n",
    "\n",
    "### while loop\n",
    "### for loop"
   ]
  },
  {
   "cell_type": "code",
   "execution_count": null,
   "id": "0515b501",
   "metadata": {},
   "outputs": [],
   "source": []
  },
  {
   "cell_type": "markdown",
   "id": "b37af186",
   "metadata": {},
   "source": [
    "# while loop\n",
    "\n",
    "# At the time of dealing with looping statement , the programmer must have focus on 3 points:\n",
    "\n",
    "\n",
    "### initialization part\n",
    "### conditon part \n",
    "### updation part(increment part/ decrement part) i=i+1/i+=1\n"
   ]
  },
  {
   "cell_type": "code",
   "execution_count": null,
   "id": "1418caaf",
   "metadata": {},
   "outputs": [],
   "source": []
  },
  {
   "cell_type": "code",
   "execution_count": null,
   "id": "c79c00de",
   "metadata": {},
   "outputs": [],
   "source": []
  },
  {
   "cell_type": "markdown",
   "id": "c59659a3",
   "metadata": {},
   "source": [
    "#  Printing \"Welcome to Lpu \" 5 times"
   ]
  },
  {
   "cell_type": "code",
   "execution_count": 16,
   "id": "370ccbec",
   "metadata": {},
   "outputs": [
    {
     "name": "stdout",
     "output_type": "stream",
     "text": [
      "welcome to lpu\n",
      "welcome to lpu\n",
      "welcome to lpu\n",
      "welcome to lpu\n",
      "welcome to lpu\n",
      "Rest of Code\n"
     ]
    }
   ],
   "source": [
    "i=1  #initialization part\n",
    "\n",
    "while i<=5: # condtion\n",
    "    print(\"welcome to lpu\")\n",
    "    i+=1  # updatation part(increment or decrement)\n",
    "print(\"Rest of Code\")\n"
   ]
  },
  {
   "cell_type": "code",
   "execution_count": null,
   "id": "84c08f54",
   "metadata": {},
   "outputs": [],
   "source": []
  },
  {
   "cell_type": "markdown",
   "id": "6ee681a7",
   "metadata": {},
   "source": [
    "#  Counting from 1 to 10"
   ]
  },
  {
   "cell_type": "code",
   "execution_count": 17,
   "id": "7780d6b2",
   "metadata": {},
   "outputs": [
    {
     "name": "stdout",
     "output_type": "stream",
     "text": [
      "1\n",
      "2\n",
      "3\n",
      "4\n",
      "5\n",
      "6\n",
      "7\n",
      "8\n",
      "9\n",
      "10\n",
      "Rest of Code\n"
     ]
    }
   ],
   "source": [
    "i=1  #initialization part\n",
    "\n",
    "while i<=10: # condtion\n",
    "    print(i)\n",
    "    i+=1  # updatation part(increment or decrement)\n",
    "print(\"Rest of Code\")\n"
   ]
  },
  {
   "cell_type": "markdown",
   "id": "e3ed5436",
   "metadata": {},
   "source": [
    "#  Sum of numbers from 1 to 10"
   ]
  },
  {
   "cell_type": "code",
   "execution_count": 18,
   "id": "56db69b4",
   "metadata": {},
   "outputs": [
    {
     "name": "stdout",
     "output_type": "stream",
     "text": [
      "55\n"
     ]
    }
   ],
   "source": [
    "i=1  #initialization part\n",
    "sum=0\n",
    "\n",
    "while i<=10: # condtion\n",
    "    sum=sum+i\n",
    "    i+=1  # updatation part(increment or decrement)\n",
    "print(sum)\n"
   ]
  },
  {
   "cell_type": "code",
   "execution_count": null,
   "id": "6c4a5187",
   "metadata": {},
   "outputs": [],
   "source": []
  },
  {
   "cell_type": "markdown",
   "id": "c009dadf",
   "metadata": {},
   "source": [
    "## #  Even numbers from 1 to 20\n"
   ]
  },
  {
   "cell_type": "code",
   "execution_count": 19,
   "id": "578ff44f",
   "metadata": {},
   "outputs": [
    {
     "name": "stdout",
     "output_type": "stream",
     "text": [
      "2\n",
      "4\n",
      "6\n",
      "8\n",
      "10\n",
      "12\n",
      "14\n",
      "16\n",
      "18\n",
      "20\n",
      "enf of stmt\n"
     ]
    }
   ],
   "source": [
    "i = 1\n",
    "while i <= 20:\n",
    "    if i % 2 == 0:\n",
    "        print(i)\n",
    "    i += 1\n",
    "print(\"enf of stmt\")\n"
   ]
  },
  {
   "cell_type": "code",
   "execution_count": null,
   "id": "e0ac0aa9",
   "metadata": {},
   "outputs": [],
   "source": []
  },
  {
   "cell_type": "code",
   "execution_count": null,
   "id": "1d25cb83",
   "metadata": {},
   "outputs": [],
   "source": []
  },
  {
   "cell_type": "markdown",
   "id": "de5a65e7",
   "metadata": {},
   "source": [
    "# range() :-- range data allows us to store sequence of integer value with equal interval"
   ]
  },
  {
   "cell_type": "code",
   "execution_count": null,
   "id": "1278e26f",
   "metadata": {},
   "outputs": [],
   "source": []
  },
  {
   "cell_type": "markdown",
   "id": "74938a9e",
   "metadata": {},
   "source": [
    "# Syntax 1\n",
    "\n",
    "## var_name = range(numeric values)"
   ]
  },
  {
   "cell_type": "code",
   "execution_count": 20,
   "id": "3d926c23",
   "metadata": {},
   "outputs": [
    {
     "name": "stdout",
     "output_type": "stream",
     "text": [
      "range(0, 10)\n"
     ]
    },
    {
     "data": {
      "text/plain": [
       "range"
      ]
     },
     "execution_count": 20,
     "metadata": {},
     "output_type": "execute_result"
    }
   ],
   "source": [
    "r=range(10)\n",
    "print(r)\n",
    "type(r)"
   ]
  },
  {
   "cell_type": "code",
   "execution_count": 21,
   "id": "841bdf69",
   "metadata": {},
   "outputs": [
    {
     "data": {
      "text/plain": [
       "range(0, 50)"
      ]
     },
     "execution_count": 21,
     "metadata": {},
     "output_type": "execute_result"
    }
   ],
   "source": [
    "r=range(50)\n",
    "r"
   ]
  },
  {
   "cell_type": "code",
   "execution_count": null,
   "id": "8ec7c33d",
   "metadata": {},
   "outputs": [],
   "source": []
  },
  {
   "cell_type": "markdown",
   "id": "ad9ec06f",
   "metadata": {},
   "source": [
    "# Syntax 2\n",
    "\n",
    "## var_name = range(start , stop)"
   ]
  },
  {
   "cell_type": "code",
   "execution_count": 22,
   "id": "83b5e3a1",
   "metadata": {},
   "outputs": [
    {
     "data": {
      "text/plain": [
       "range(10, 20)"
      ]
     },
     "execution_count": 22,
     "metadata": {},
     "output_type": "execute_result"
    }
   ],
   "source": [
    "r= range(10,20)\n",
    "r"
   ]
  },
  {
   "cell_type": "code",
   "execution_count": 23,
   "id": "84d0030b",
   "metadata": {},
   "outputs": [
    {
     "data": {
      "text/plain": [
       "range(30, 40)"
      ]
     },
     "execution_count": 23,
     "metadata": {},
     "output_type": "execute_result"
    }
   ],
   "source": [
    "r= range(30,40)\n",
    "r"
   ]
  },
  {
   "cell_type": "markdown",
   "id": "73d83e7e",
   "metadata": {},
   "source": [
    "# Syntax 3\n",
    "\n",
    "## var_name = range(start , stop , step)"
   ]
  },
  {
   "cell_type": "code",
   "execution_count": 27,
   "id": "5c90fa51",
   "metadata": {},
   "outputs": [
    {
     "data": {
      "text/plain": [
       "range(2, 20, 3)"
      ]
     },
     "execution_count": 27,
     "metadata": {},
     "output_type": "execute_result"
    }
   ],
   "source": [
    "r= range(2,20,3)\n",
    "r"
   ]
  },
  {
   "cell_type": "code",
   "execution_count": null,
   "id": "54ed6258",
   "metadata": {},
   "outputs": [],
   "source": []
  },
  {
   "cell_type": "code",
   "execution_count": null,
   "id": "c83cddba",
   "metadata": {},
   "outputs": [],
   "source": []
  },
  {
   "cell_type": "code",
   "execution_count": null,
   "id": "2e75f3c5",
   "metadata": {},
   "outputs": [],
   "source": []
  }
 ],
 "metadata": {
  "kernelspec": {
   "display_name": "Python 3 (ipykernel)",
   "language": "python",
   "name": "python3"
  },
  "language_info": {
   "codemirror_mode": {
    "name": "ipython",
    "version": 3
   },
   "file_extension": ".py",
   "mimetype": "text/x-python",
   "name": "python",
   "nbconvert_exporter": "python",
   "pygments_lexer": "ipython3",
   "version": "3.10.9"
  }
 },
 "nbformat": 4,
 "nbformat_minor": 5
}
